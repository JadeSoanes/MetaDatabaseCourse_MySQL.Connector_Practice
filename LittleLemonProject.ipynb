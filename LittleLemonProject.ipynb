{
 "cells": [
  {
   "cell_type": "markdown",
   "id": "56485142",
   "metadata": {},
   "source": [
    "# SECTION 1: SETTING UP DB"
   ]
  },
  {
   "cell_type": "markdown",
   "id": "341bd430",
   "metadata": {},
   "source": [
    "## Making password secret"
   ]
  },
  {
   "cell_type": "code",
   "execution_count": 8,
   "id": "1c3070a0",
   "metadata": {},
   "outputs": [],
   "source": [
    "# Using the configparser module to keep my password secret and instead assign it to a variable\n",
    "import configparser\n",
    "\n",
    "config = configparser.ConfigParser()\n",
    "config.read('config.ini')\n",
    "\n",
    "password = config.get('mysql', 'password')"
   ]
  },
  {
   "cell_type": "markdown",
   "id": "d4dcc828",
   "metadata": {},
   "source": [
    "## Establishing the connection to MySQL"
   ]
  },
  {
   "cell_type": "code",
   "execution_count": 9,
   "id": "3bb0759d",
   "metadata": {},
   "outputs": [],
   "source": [
    "#import sql connector module and establish the connection\n",
    "import mysql.connector as connector\n",
    "\n",
    "connection = connector.connect(user='root', password=password)"
   ]
  },
  {
   "cell_type": "code",
   "execution_count": 10,
   "id": "280114e9",
   "metadata": {},
   "outputs": [],
   "source": [
    "#Create cursor\n",
    "cursor = connection.cursor()"
   ]
  },
  {
   "cell_type": "markdown",
   "id": "db1eef35",
   "metadata": {},
   "source": [
    "## Creating and using the database"
   ]
  },
  {
   "cell_type": "code",
   "execution_count": 11,
   "id": "4125be20",
   "metadata": {},
   "outputs": [],
   "source": [
    "# Create MySQL DB\n",
    "cursor.execute('CREATE DATABASE little_lemon_db') "
   ]
  },
  {
   "cell_type": "code",
   "execution_count": 12,
   "id": "adab1931",
   "metadata": {},
   "outputs": [],
   "source": [
    "# Use DB\n",
    "cursor.execute('USE little_lemon_db')"
   ]
  },
  {
   "cell_type": "code",
   "execution_count": 21,
   "id": "55e63d0f",
   "metadata": {},
   "outputs": [],
   "source": [
    "# Create tables in the MySQL DB\n",
    "\n",
    "create_menuitem_table = '''CREATE TABLE MenuItems (\n",
    "ItemID INT AUTO_INCREMENT,\n",
    "Name VARCHAR(200),\n",
    "Type VARCHAR(100),\n",
    "Price INT,\n",
    "PRIMARY KEY (ItemID)\n",
    ");'''\n",
    "\n",
    "create_menu_table = '''CREATE TABLE Menus (\n",
    "MenuID INT,\n",
    "ItemID INT,\n",
    "Cuisine VARCHAR(100),\n",
    "PRIMARY KEY (MenuID,ItemID)\n",
    ");'''\n",
    "\n",
    "create_booking_table = '''CREATE TABLE Bookings (\n",
    "BookingID INT AUTO_INCREMENT,\n",
    "TableNo INT,\n",
    "GuestFirstName VARCHAR(100) NOT NULL,\n",
    "GuestLastName VARCHAR(100) NOT NULL,\n",
    "BookingSlot TIME NOT NULL,\n",
    "EmployeeID INT,\n",
    "PRIMARY KEY (BookingID)\n",
    ");'''\n",
    "\n",
    "create_orders_table = '''CREATE TABLE Orders (\n",
    "OrderID INT,\n",
    "TableNo INT,\n",
    "MenuID INT,\n",
    "BookingID INT,\n",
    "BillAmount INT,\n",
    "Quantity INT,\n",
    "PRIMARY KEY (OrderID,TableNo)\n",
    ");'''\n",
    "\n",
    "create_employees_table = '''CREATE TABLE Employees (\n",
    "EmployeeID INT AUTO_INCREMENT PRIMARY KEY,\n",
    "Name VARCHAR(255),\n",
    "Role VARCHAR(255),\n",
    "Address VARCHAR(255),\n",
    "Contact_Number INT,\n",
    "Email VARCHAR(255),\n",
    "Annual_Salary VARCHAR(255)\n",
    ");'''\n",
    "\n",
    "\n",
    "# Create MenuItems table\n",
    "cursor.execute(create_menuitem_table)\n",
    "\n",
    "# Create Menu table\n",
    "cursor.execute(create_menu_table)\n",
    "\n",
    "# Create Bookings table\n",
    "cursor.execute(create_booking_table)\n",
    "\n",
    "# Create Orders table\n",
    "cursor.execute(create_orders_table)\n",
    "\n",
    "# Create Employees table\n",
    "cursor.execute(create_employees_table)"
   ]
  },
  {
   "cell_type": "code",
   "execution_count": 23,
   "id": "b36ae247",
   "metadata": {},
   "outputs": [],
   "source": [
    "# Fill tables with data\n",
    "\n",
    "#*******************************************************#\n",
    "# Insert query to populate \"MenuItems\" table:\n",
    "#*******************************************************#\n",
    "insert_menuitems='''\n",
    "INSERT INTO MenuItems (ItemID, Name, Type, Price)\n",
    "VALUES\n",
    "(1, 'Olives','Starters',5),\n",
    "(2, 'Flatbread','Starters', 5),\n",
    "(3, 'Minestrone', 'Starters', 8),\n",
    "(4, 'Tomato bread','Starters', 8),\n",
    "(5, 'Falafel', 'Starters', 7),\n",
    "(6, 'Hummus', 'Starters', 5),\n",
    "(7, 'Greek salad', 'Main Courses', 15),\n",
    "(8, 'Bean soup', 'Main Courses', 12),\n",
    "(9, 'Pizza', 'Main Courses', 15),\n",
    "(10, 'Greek yoghurt','Desserts', 7),\n",
    "(11, 'Ice cream', 'Desserts', 6),\n",
    "(12, 'Cheesecake', 'Desserts', 4),\n",
    "(13, 'Athens White wine', 'Drinks', 25),\n",
    "(14, 'Corfu Red Wine', 'Drinks', 30),\n",
    "(15, 'Turkish Coffee', 'Drinks', 10),\n",
    "(16, 'Turkish Coffee', 'Drinks', 10),\n",
    "(17, 'Kabasa', 'Main Courses', 17);'''\n",
    "\n",
    "#*******************************************************#\n",
    "# Insert query to populate \"Menu\" table:\n",
    "#*******************************************************#\n",
    "insert_menu='''\n",
    "INSERT INTO Menus (MenuID,ItemID,Cuisine)\n",
    "VALUES\n",
    "(1, 1, 'Greek'),\n",
    "(1, 7, 'Greek'),\n",
    "(1, 10, 'Greek'),\n",
    "(1, 13, 'Greek'),\n",
    "(2, 3, 'Italian'),\n",
    "(2, 9, 'Italian'),\n",
    "(2, 12, 'Italian'),\n",
    "(2, 15, 'Italian'),\n",
    "(3, 5, 'Turkish'),\n",
    "(3, 17, 'Turkish'),\n",
    "(3, 11, 'Turkish'),\n",
    "(3, 16, 'Turkish');'''\n",
    "\n",
    "#*******************************************************#\n",
    "# Insert query to populate \"Bookings\" table:\n",
    "#*******************************************************#\n",
    "insert_bookings='''\n",
    "INSERT INTO Bookings (BookingID, TableNo, GuestFirstName, \n",
    "GuestLastName, BookingSlot, EmployeeID)\n",
    "VALUES\n",
    "(1, 12, 'Anna','Iversen','19:00:00',1),\n",
    "(2, 12, 'Joakim', 'Iversen', '19:00:00', 1),\n",
    "(3, 19, 'Vanessa', 'McCarthy', '15:00:00', 3),\n",
    "(4, 15, 'Marcos', 'Romero', '17:30:00', 4),\n",
    "(5, 5, 'Hiroki', 'Yamane', '18:30:00', 2),\n",
    "(6, 8, 'Diana', 'Pinto', '20:00:00', 5);'''\n",
    "\n",
    "#*******************************************************#\n",
    "# Insert query to populate \"Orders\" table:\n",
    "#*******************************************************#\n",
    "insert_orders='''\n",
    "INSERT INTO Orders (OrderID, TableNo, MenuID, BookingID, Quantity, BillAmount)\n",
    "VALUES\n",
    "(1, 12, 1, 1, 2, 86),\n",
    "(2, 19, 2, 2, 1, 37),\n",
    "(3, 15, 2, 3, 1, 37),\n",
    "(4, 5, 3, 4, 1, 40),\n",
    "(5, 8, 1, 5, 1, 43);'''\n",
    "\n",
    "#*******************************************************#\n",
    "# Insert query to populate \"Employees\" table:\n",
    "#*******************************************************#\n",
    "insert_employees = '''\n",
    "INSERT INTO employees (EmployeeID, Name, Role, Address, Contact_Number, Email, Annual_Salary)\n",
    "VALUES \n",
    "(01, 'Mario Gollini', 'Manager', '724 Parsley Lane, Old Town, Chicago, IL', 351258074, 'Mario.g@littlelemon.com', '$70,000'),\n",
    "(02, 'Adrian Gollini', 'Assistant Manager', '334 Dill Square, Lincoln Park, Chicago, IL', 351474048, 'Adrian.g@littlelemon.com', '$65,000'),\n",
    "(03, 'Giorgos Dioudis', 'Head Chef', '879 Sage Street, West Loop, Chicago, IL', 351970582, 'Giorgos.d@littlelemon.com', '$50,000'),\n",
    "(04, 'Fatma Kaya', 'Assistant Chef', '132 Bay Lane, Chicago, IL', 351963569, 'Fatma.k@littlelemon.com', '$45,000'),\n",
    "(05, 'Elena Salvai', 'Head Waiter', '989 Thyme Square, EdgeWater, Chicago, IL', 351074198, 'Elena.s@littlelemon.com', '$40,000'),\n",
    "(06, 'John Millar', 'Receptionist', '245 Dill Square, Lincoln Park, Chicago, IL', 351584508, 'John.m@littlelemon.com', '$35,000');\n",
    "'''\n",
    "\n",
    "# Populate MenuItems table\n",
    "cursor.execute(insert_menuitems)\n",
    "connection.commit()\n",
    "\n",
    "# Populate MenuItems table\n",
    "cursor.execute(insert_menu)\n",
    "connection.commit()\n",
    "\n",
    "# Populate Bookings table\n",
    "cursor.execute(insert_bookings)\n",
    "connection.commit()\n",
    "\n",
    "Populate Orders table\n",
    "cursor.execute(insert_orders)\n",
    "connection.commit()\n",
    "\n",
    "# Populate Employees table\n",
    "cursor.execute(insert_employees)\n",
    "connection.commit()"
   ]
  },
  {
   "cell_type": "markdown",
   "id": "55ceee33",
   "metadata": {},
   "source": [
    "## Creating connection pools and stored procedures"
   ]
  },
  {
   "cell_type": "code",
   "execution_count": 25,
   "id": "a6f4b2a4",
   "metadata": {},
   "outputs": [],
   "source": [
    "# Import the connection pooling and errors module\n",
    "from mysql.connector.pooling import MySQLConnectionPool, Error"
   ]
  },
  {
   "cell_type": "code",
   "execution_count": 31,
   "id": "114196fa",
   "metadata": {},
   "outputs": [
    {
     "name": "stdout",
     "output_type": "stream",
     "text": [
      "Connection 1 Successful\n",
      "Connection 2 Successful\n"
     ]
    }
   ],
   "source": [
    "# Example of how to establish that the connection works\n",
    "pool = MySQLConnectionPool(pool_name='pool_a', pool_size=2, database='little_lemon_db', user='root', password=password)\n",
    "\n",
    "try:\n",
    "    for i in range(pool.pool_size):    \n",
    "        connection = pool.get_connection()\n",
    "        if connection.is_connected():\n",
    "            cursor = connection.cursor()\n",
    "            print('Connection {} Successful'.format(i + 1))\n",
    "        else:\n",
    "            print('No live connection made')\n",
    "        connection.close()\n",
    "except Error as e:\n",
    "    print(\"Error:\", e) \n"
   ]
  },
  {
   "cell_type": "code",
   "execution_count": 79,
   "id": "ed598c13",
   "metadata": {},
   "outputs": [],
   "source": [
    "# Create stored procedure for peak hours\n",
    "\n",
    "create_procedure_1_query = '''\n",
    "CREATE PROCEDURE PeakHours()\n",
    "BEGIN\n",
    "    SELECT HOUR(BookingSlot) AS BookingHour, COUNT(*) AS NumBookings\n",
    "    FROM Bookings\n",
    "    GROUP BY BookingHour\n",
    "    ORDER BY NumBookings DESC;\n",
    "END'''"
   ]
  },
  {
   "cell_type": "code",
   "execution_count": 80,
   "id": "521568c6",
   "metadata": {},
   "outputs": [
    {
     "name": "stdout",
     "output_type": "stream",
     "text": [
      "['BookingHour', 'NumBookings']\n",
      "(19, 2)\n",
      "(15, 1)\n",
      "(17, 1)\n",
      "(18, 1)\n",
      "(20, 1)\n"
     ]
    }
   ],
   "source": [
    "# Execute the new stored procedure\n",
    "    \n",
    "pool = MySQLConnectionPool(pool_name='pool_a', pool_size=2, database='little_lemon_db', user='root', password=password)\n",
    "\n",
    "try:\n",
    "    connection = pool.get_connection()\n",
    "    if connection.is_connected():\n",
    "        cursor = connection.cursor()\n",
    "        # Run the PeakHours query\n",
    "        cursor.execute(create_procedure_1_query)\n",
    "        cursor.callproc('PeakHours')\n",
    "        results = next(cursor.stored_results())\n",
    "        dataset = results.fetchall()\n",
    "        for column_id in cursor.stored_results():\n",
    "            columns = [column[0] for column in column_id.description]\n",
    "        print(columns)\n",
    "        for data in dataset:\n",
    "            print(data)\n",
    "        cursor.close()\n",
    "        connection.close()\n",
    "    else:\n",
    "        print('No live connection made')\n",
    "except Error as e:\n",
    "    print(\"Error:\", e) "
   ]
  },
  {
   "cell_type": "code",
   "execution_count": 90,
   "id": "c800c146",
   "metadata": {},
   "outputs": [],
   "source": [
    "# Create stored procedure for Guest Status\n",
    "\n",
    "create_procedure_2_query = '''CREATE PROCEDURE GuestStatus()\n",
    "BEGIN\n",
    "    SELECT CONCAT(b.GuestFirstName, ' ', b.GuestLastName) AS GuestName,\n",
    "        CASE\n",
    "            WHEN e.Role IN ('Manager', 'Assistant Manager') THEN 'Ready to pay'\n",
    "            WHEN e.Role = 'Head Chef' THEN 'Ready to serve'\n",
    "            WHEN e.Role = 'Assistant Chef' THEN 'Preparing Order'\n",
    "            WHEN e.Role = 'Head Waiter' THEN 'Order served'\n",
    "        END AS OrderStatus\n",
    "    FROM Bookings AS b\n",
    "    LEFT JOIN Employees AS e ON b.EmployeeID = e.EmployeeID;\n",
    "END;'''"
   ]
  },
  {
   "cell_type": "code",
   "execution_count": 91,
   "id": "e96ad4e0",
   "metadata": {},
   "outputs": [
    {
     "name": "stdout",
     "output_type": "stream",
     "text": [
      "['GuestName', 'OrderStatus']\n",
      "('Anna Iversen', 'Ready to pay')\n",
      "('Joakim Iversen', 'Ready to pay')\n",
      "('Vanessa McCarthy', 'Ready to serve')\n",
      "('Marcos Romero', 'Preparing Order')\n",
      "('Hiroki Yamane', 'Ready to pay')\n",
      "('Diana Pinto', 'Order served')\n"
     ]
    }
   ],
   "source": [
    "# Execute the new stored procedure\n",
    "\n",
    "pool = MySQLConnectionPool(pool_name='pool_a', pool_size=2, database='little_lemon_db', user='root', password=password)\n",
    "\n",
    "try:\n",
    "    connection = pool.get_connection()\n",
    "    if connection.is_connected():\n",
    "        cursor = connection.cursor()\n",
    "        # Run the GuestStatus query\n",
    "        cursor.execute(create_procedure_2_query)\n",
    "        cursor.callproc('GuestStatus')\n",
    "        results = next(cursor.stored_results())\n",
    "        dataset = results.fetchall()\n",
    "        for column_id in cursor.stored_results():\n",
    "            columns = [column[0] for column in column_id.description]\n",
    "        print(columns)\n",
    "        for data in dataset:\n",
    "            print(data)\n",
    "        cursor.close()\n",
    "        connection.close()\n",
    "    else:\n",
    "        print('No live connection made')\n",
    "except Error as e:\n",
    "    print(\"Error:\", e) "
   ]
  },
  {
   "cell_type": "markdown",
   "id": "93d43e50",
   "metadata": {},
   "source": [
    "# SECTION 2: SALES REPORT EXERCISES"
   ]
  },
  {
   "cell_type": "markdown",
   "id": "87e6ffaf",
   "metadata": {},
   "source": [
    "## Pool B and Little Lemon Sales Report (task 1 and 2)"
   ]
  },
  {
   "cell_type": "code",
   "execution_count": 95,
   "id": "e82c005c",
   "metadata": {},
   "outputs": [
    {
     "name": "stdout",
     "output_type": "stream",
     "text": [
      "Anees is successfully connected\n",
      "Bald is successfully connected\n",
      "Jay is successfully connected\n"
     ]
    }
   ],
   "source": [
    "# Adding new data and connections to the DB\n",
    "pool = MySQLConnectionPool(pool_name='pool_b', pool_size=2, database='little_lemon_db', user='root', password=password)\n",
    "guests = ['Anees', 'Bald', 'Jay']\n",
    "\n",
    "for guest in guests:\n",
    "    try:  \n",
    "        connection = pool.get_connection()\n",
    "        if connection.is_connected():\n",
    "            cursor = connection.cursor()\n",
    "            print('{} is successfully connected'.format(guest))\n",
    "            new_data_added = '''INSERT INTO Bookings (TableNo, GuestFirstName, \n",
    "                                GuestLastName, BookingSlot, EmployeeID)\n",
    "                                VALUES\n",
    "                                (8, 'Anees', 'Java', '18:00:00', 6),\n",
    "                                (5, 'Bald', 'Vin', '19:00:00', 6),\n",
    "                                (12, 'Jay', 'Kon', '19:30:00', 6)'''\n",
    "            cursor.execute(new_data_added)\n",
    "            connection.commit()\n",
    "        else:\n",
    "            print('No live connection made')\n",
    "        connection.close()\n",
    "    except:\n",
    "        print('No more connections available - making new connection') \n",
    "        connection = connector.connect(user='root', password=password, database='little_lemon_db')\n",
    "        pool.add_connection(connection)\n",
    "        print('New connection added to the pool \\n')\n",
    "        print('{} is successfully connected'.format(guest))\n"
   ]
  },
  {
   "cell_type": "markdown",
   "id": "e82ab320",
   "metadata": {},
   "source": [
    "## Create a report containing the following information:\n",
    "\n",
    "The name and EmployeeID of the Little Lemon manager.\n",
    "\n",
    "The name and role of the employee who receives the highest salary.\n",
    "\n",
    "The number of guests booked between 18:00 and 20:00.\n",
    "\n",
    "The full name and BookingID of all guests waiting to be seated with the receptionist in sorted order with respect to their BookingSlot.\n"
   ]
  },
  {
   "cell_type": "code",
   "execution_count": 100,
   "id": "f53bc594",
   "metadata": {},
   "outputs": [
    {
     "name": "stdout",
     "output_type": "stream",
     "text": [
      "The little lemon manager: [('Mario Gollini', 1)]\n",
      "\n",
      "The employee with the highest salary: [('Mario Gollini', 'Manager')]\n",
      "\n",
      "Guests booked in between 18:00 and 20:00: [(22,)]\n",
      "\n",
      "The guests waiting to be seated: [('AneesJava', 16), ('AneesJava', 19), ('AneesJava', 22), ('AneesJava', 25), ('AneesJava', 28), ('AneesJava', 31), ('BaldVin', 17), ('BaldVin', 20), ('BaldVin', 23), ('BaldVin', 26), ('BaldVin', 29), ('BaldVin', 32), ('JayKon', 18), ('JayKon', 21), ('JayKon', 24), ('JayKon', 27), ('JayKon', 30), ('JayKon', 33)]\n",
      "\n"
     ]
    }
   ],
   "source": [
    "# Making connection\n",
    "connection = connector.connect(user='root', password=password, database='little_lemon_db')\n",
    "cursor = connection.cursor()\n",
    "\n",
    "# Selecting the name and EmployeeID of the little lemon manager\n",
    "\n",
    "query_1 = '''SELECT Name, EmployeeID\n",
    "            FROM Employees\n",
    "            WHERE Role = 'Manager';'''\n",
    "\n",
    "cursor.execute(query_1)\n",
    "results1 = cursor.fetchall()\n",
    "\n",
    "# Selecting highest salary\n",
    "\n",
    "query_2 = '''SELECT Name, Role\n",
    "            FROM Employees\n",
    "            ORDER BY Annual_Salary DESC\n",
    "            LIMIT 1;'''\n",
    "\n",
    "cursor.execute(query_2)\n",
    "results2 = cursor.fetchall()\n",
    "\n",
    "# Guests between 18.00 and 20.00\n",
    "\n",
    "query_3 = '''SELECT COUNT(BookingID) AS 'Number_of_guests_18.00-20.00'\n",
    "            FROM Bookings\n",
    "            WHERE BookingSlot BETWEEN '18:00:00' AND '20:00:00';'''\n",
    "\n",
    "cursor.execute(query_3)\n",
    "results3 = cursor.fetchall()\n",
    "\n",
    "# Guests waiting to be seated (employeeID = 6)\n",
    "\n",
    "query_4 = '''SELECT CONCAT(GuestFirstName, GuestLastName), BookingID\n",
    "            FROM Bookings\n",
    "            WHERE EmployeeID = 6\n",
    "            ORDER BY BookingSlot ASC;'''\n",
    "\n",
    "cursor.execute(query_4)\n",
    "results4 = cursor.fetchall()\n",
    "\n",
    "print('The little lemon manager: {}\\n'.format(results1))\n",
    "print('The employee with the highest salary: {}\\n'.format(results2))\n",
    "print('Guests booked in between 18:00 and 20:00: {}\\n'.format(results3))\n",
    "print('The guests waiting to be seated: {}\\n'.format(results4))\n"
   ]
  },
  {
   "cell_type": "markdown",
   "id": "82210939",
   "metadata": {},
   "source": [
    "## Create a stored procedure named BasicSalesReport that returns the following statistics: \n",
    "\n",
    "Total sales\n",
    "\n",
    "Average sale\n",
    "\n",
    "Minimum bill paid\n",
    "\n",
    "Maximum bill paid"
   ]
  },
  {
   "cell_type": "code",
   "execution_count": 109,
   "id": "489449b4",
   "metadata": {},
   "outputs": [
    {
     "name": "stdout",
     "output_type": "stream",
     "text": [
      "*Sales Report*\n",
      "TotalSales: 243\n",
      "AverageSale: 48.6000\n",
      "MaximumSale: 86\n",
      "MinimumSale: 37\n"
     ]
    }
   ],
   "source": [
    "connection = connector.connect(user='root', password=password)\n",
    "cursor = connection.cursor()\n",
    "cursor.execute('USE little_lemon_db')\n",
    "\n",
    "create_procedure_3 = '''CREATE PROCEDURE BasicSalesReport()\n",
    "                        BEGIN\n",
    "                        SELECT SUM(BillAmount) AS Total_Sales, AVG(BillAmount) AS 'Average_Sale', MAX(BillAmount) AS 'MaximumBill', MIN(BillAmount) AS 'MinimumBill'\n",
    "                        FROM Orders;\n",
    "                        END'''\n",
    "\n",
    "cursor.execute(create_procedure_3)\n",
    "cursor.callproc('BasicSalesReport')\n",
    "results = next(cursor.stored_results())\n",
    "dataset = results.fetchall()\n",
    "\n",
    "# Define column names\n",
    "column_names = ['TotalSales', 'AverageSale', 'MaximumSale', 'MinimumSale']\n",
    "\n",
    "# Print column names and values\n",
    "print('*Sales Report*')\n",
    "for i, row in enumerate(dataset):\n",
    "    \n",
    "    for j, value in enumerate(row):\n",
    "        print(column_names[j] + ':', value)\n",
    "\n",
    "# Close the connection\n",
    "cursor.close()\n",
    "connection.close()\n",
    "\n"
   ]
  },
  {
   "cell_type": "markdown",
   "id": "f8b4b7f9",
   "metadata": {},
   "source": [
    "## Little Lemon needs to display the next three upcoming bookings from the Bookings table on the kitchen screen to notify their chefs which orders are due next. To complete this task, carry out the following steps:\n",
    "\n",
    "Get a connection from the pool.\n",
    "\n",
    "Create a buffered cursor.\n",
    "\n",
    "Combine the data from the Bookings and the Employee tables. Sort the retrieved records in ascending order. Then display the information of the first three guests. \n",
    "\n",
    "Returned the connection back to the pool.\n",
    "\n",
    "\n",
    "The output should be as follows:\n",
    "\n",
    "[BookingSlot]\n",
    "\n",
    "[Guest_name]\n",
    "\n",
    "[Assigned to: Employee Name [Employee Role]]"
   ]
  },
  {
   "cell_type": "code",
   "execution_count": 119,
   "id": "7cc7fbcc",
   "metadata": {},
   "outputs": [
    {
     "name": "stdout",
     "output_type": "stream",
     "text": [
      "15:00:00\n",
      "Vanessa McCarthy\n",
      "Assigned to: Giorgos Dioudis [Head Chef]\n",
      "---\n",
      "17:30:00\n",
      "Marcos Romero\n",
      "Assigned to: Fatma Kaya [Assistant Chef]\n",
      "---\n",
      "18:00:00\n",
      "Anees Java\n",
      "Assigned to: John Millar [Receptionist]\n",
      "---\n"
     ]
    }
   ],
   "source": [
    "# Get connection\n",
    "connection = connector.connect(user = 'root', password=password, database = 'little_lemon_db')\n",
    "# Make buffered cursor\n",
    "cursor = connection.cursor(buffered=True)\n",
    "# Make procedure to display three orders\n",
    "create_procedure_4 = '''CREATE PROCEDURE NextThreeOrders()\n",
    "                        BEGIN\n",
    "                        SELECT b.BookingSlot, CONCAT(b.GuestFirstName, ' ', b.GuestLastName) AS 'Guest_name', e.Name, e.Role\n",
    "                        FROM Bookings AS b\n",
    "                        INNER JOIN Employees AS e\n",
    "                        ON b.EmployeeID = e.EmployeeID\n",
    "                        ORDER BY b.BookingSlot ASC\n",
    "                        LIMIT 3;\n",
    "                        END'''\n",
    "cursor.execute(create_procedure_4)\n",
    "\n",
    "cursor.callproc('NextThreeOrders')\n",
    "results2 = next(cursor.stored_results())\n",
    "dataset2 = results2.fetchall()\n",
    "\n",
    "for row in dataset2:\n",
    "    booking_slot = row[0]\n",
    "    guest_name = row[1]\n",
    "    employee_name = row[2]\n",
    "    employee_role = row[3]\n",
    "    \n",
    "    \n",
    "    print(booking_slot)\n",
    "    print(guest_name)\n",
    "    print('Assigned to: {} [{}]'.format(employee_name, employee_role))\n",
    "    print('---')\n",
    "\n",
    "\n",
    "\n",
    "\n"
   ]
  },
  {
   "cell_type": "code",
   "execution_count": null,
   "id": "86258a72",
   "metadata": {},
   "outputs": [],
   "source": []
  }
 ],
 "metadata": {
  "kernelspec": {
   "display_name": "Python 3 (ipykernel)",
   "language": "python",
   "name": "python3"
  },
  "language_info": {
   "codemirror_mode": {
    "name": "ipython",
    "version": 3
   },
   "file_extension": ".py",
   "mimetype": "text/x-python",
   "name": "python",
   "nbconvert_exporter": "python",
   "pygments_lexer": "ipython3",
   "version": "3.10.9"
  }
 },
 "nbformat": 4,
 "nbformat_minor": 5
}
